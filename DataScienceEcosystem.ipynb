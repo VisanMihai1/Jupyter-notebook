{
 "cells": [
  {
   "cell_type": "markdown",
   "id": "653f395e-5dcd-453b-aa8c-c2a5f15ea675",
   "metadata": {},
   "source": [
    "# Data Science Tools and Ecosystem "
   ]
  },
  {
   "cell_type": "markdown",
   "id": "da27257a-3632-4b33-9c76-985719059b57",
   "metadata": {},
   "source": [
    "In this notebook, Data Science Tools and Ecosystem are summarized."
   ]
  },
  {
   "cell_type": "markdown",
   "id": "417157b7-ffd8-40de-85c8-c9822224589d",
   "metadata": {},
   "source": [
    "***Objectives:***\n",
    "\n",
    "* ggplot2\n",
    "* dplyr\n",
    "* stringr\n",
    "* caret\n",
    "* ggally"
   ]
  },
  {
   "cell_type": "markdown",
   "id": "343f3736-c2bf-4383-8a84-cfd0895ec455",
   "metadata": {},
   "source": [
    "Some of the commonly used libraries used by Data Scientists include:\n",
    "1. Python\n",
    "2. R\n",
    "3. Jiulia"
   ]
  },
  {
   "cell_type": "markdown",
   "id": "4a84bbd9-986d-4eab-acec-a58388d09156",
   "metadata": {},
   "source": [
    "Some of the commonly used libraries used by Data Scientists include:\n",
    "1. Ggplot2\n",
    "2. NumPy\n",
    "3. Pandas"
   ]
  },
  {
   "cell_type": "markdown",
   "id": "6b1432eb-22d3-47c7-bf1d-f77d1e7dc468",
   "metadata": {},
   "source": [
    "| Data Science Tools |\n",
    "|--------------------|\n",
    "| Jupyter Notebook   |\n",
    "| RStudio            |\n",
    "| Apache Zeppelin    |\n"
   ]
  },
  {
   "cell_type": "markdown",
   "id": "26ce3e6f-e11a-411a-b58c-0287c1d3f0ae",
   "metadata": {},
   "source": [
    "### Below are a few examples of evaluating arithmetic expressions in Python"
   ]
  },
  {
   "cell_type": "code",
   "execution_count": 35,
   "id": "520f4492-9553-4b10-9597-6e6b599ec9c9",
   "metadata": {},
   "outputs": [
    {
     "data": {
      "text/plain": [
       "17"
      ]
     },
     "execution_count": 35,
     "metadata": {},
     "output_type": "execute_result"
    }
   ],
   "source": [
    "# This a simple arithmetic expression to mutiply then add integers\n",
    "(3*4)+5"
   ]
  },
  {
   "cell_type": "code",
   "execution_count": 42,
   "id": "fb96a066-34c4-4e84-b78f-4ec09e46d8b2",
   "metadata": {},
   "outputs": [
    {
     "data": {
      "text/plain": [
       "3.3333333333333335"
      ]
     },
     "execution_count": 42,
     "metadata": {},
     "output_type": "execute_result"
    }
   ],
   "source": [
    "# This will convert 200 minutes to hours by diving by 60\n",
    "200/60"
   ]
  },
  {
   "cell_type": "markdown",
   "id": "fcf357c1-dd04-44f0-a92c-03570650fcd8",
   "metadata": {},
   "source": [
    "## Author  \n",
    "Vișan Mihai-Gabriel\n"
   ]
  }
 ],
 "metadata": {
  "kernelspec": {
   "display_name": "Python 3 (ipykernel)",
   "language": "python",
   "name": "python3"
  },
  "language_info": {
   "codemirror_mode": {
    "name": "ipython",
    "version": 3
   },
   "file_extension": ".py",
   "mimetype": "text/x-python",
   "name": "python",
   "nbconvert_exporter": "python",
   "pygments_lexer": "ipython3",
   "version": "3.12.4"
  }
 },
 "nbformat": 4,
 "nbformat_minor": 5
}
